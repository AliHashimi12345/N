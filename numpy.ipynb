{
 "cells": [
  {
   "cell_type": "markdown",
   "id": "43ab66ae",
   "metadata": {},
   "source": [
    "# numpy array operation"
   ]
  },
  {
   "cell_type": "code",
   "execution_count": 1,
   "id": "2e5c9805",
   "metadata": {},
   "outputs": [],
   "source": [
    "import numpy as np"
   ]
  },
  {
   "cell_type": "code",
   "execution_count": 2,
   "id": "f665db92",
   "metadata": {},
   "outputs": [],
   "source": [
    "arr = np.array( [[ 1, 2, 3],\n",
    "                 [ 4, 2, 5]] )\n"
   ]
  },
  {
   "cell_type": "code",
   "execution_count": 3,
   "id": "bbca3bf4",
   "metadata": {},
   "outputs": [
    {
     "name": "stdout",
     "output_type": "stream",
     "text": [
      "Array is of type:  <class 'numpy.ndarray'>\n"
     ]
    }
   ],
   "source": [
    "print(\"Array is of type: \", type(arr))"
   ]
  },
  {
   "cell_type": "code",
   "execution_count": 4,
   "id": "41e02d52",
   "metadata": {},
   "outputs": [
    {
     "name": "stdout",
     "output_type": "stream",
     "text": [
      "No. of dimensions:  2\n"
     ]
    }
   ],
   "source": [
    "print(\"No. of dimensions: \", arr.ndim)"
   ]
  },
  {
   "cell_type": "code",
   "execution_count": 5,
   "id": "4b999771",
   "metadata": {},
   "outputs": [
    {
     "name": "stdout",
     "output_type": "stream",
     "text": [
      "Shape of array:  (2, 3)\n"
     ]
    }
   ],
   "source": [
    "print(\"Shape of array: \", arr.shape)"
   ]
  },
  {
   "cell_type": "code",
   "execution_count": 6,
   "id": "e560dd59",
   "metadata": {},
   "outputs": [
    {
     "name": "stdout",
     "output_type": "stream",
     "text": [
      "Size of array:  6\n"
     ]
    }
   ],
   "source": [
    "print(\"Size of array: \", arr.size)"
   ]
  },
  {
   "cell_type": "markdown",
   "id": "609778e8",
   "metadata": {},
   "source": [
    "# creation of arrays\n"
   ]
  },
  {
   "cell_type": "code",
   "execution_count": 7,
   "id": "a275c6ff",
   "metadata": {},
   "outputs": [
    {
     "name": "stdout",
     "output_type": "stream",
     "text": [
      "Array created using passed list:\n",
      " [[1. 2. 4.]\n",
      " [5. 8. 7.]]\n"
     ]
    }
   ],
   "source": [
    "# Creating array from list with type float\n",
    "a = np.array([[1, 2, 4], [5, 8, 7]], dtype = 'float')\n",
    "print (\"Array created using passed list:\\n\", a)"
   ]
  },
  {
   "cell_type": "code",
   "execution_count": 8,
   "id": "bc9e84a2",
   "metadata": {},
   "outputs": [
    {
     "name": "stdout",
     "output_type": "stream",
     "text": [
      "Array created using passed list:\n",
      " [[1 2 4]\n",
      " [5 8 7]]\n"
     ]
    }
   ],
   "source": [
    "a = np.array([[1, 2, 4], [5, 8, 7]], dtype = 'int')\n",
    "print (\"Array created using passed list:\\n\", a)"
   ]
  },
  {
   "cell_type": "code",
   "execution_count": 9,
   "id": "7b0c4862",
   "metadata": {},
   "outputs": [
    {
     "name": "stdout",
     "output_type": "stream",
     "text": [
      "\n",
      "An array initialized with all zeros:\n",
      " [[0. 0. 0. 0.]\n",
      " [0. 0. 0. 0.]\n",
      " [0. 0. 0. 0.]]\n"
     ]
    }
   ],
   "source": [
    "\n",
    "c = np.zeros((3, 4))\n",
    "print (\"\\nAn array initialized with all zeros:\\n\", c)"
   ]
  },
  {
   "cell_type": "code",
   "execution_count": 10,
   "id": "2aa9f9e7",
   "metadata": {},
   "outputs": [
    {
     "name": "stdout",
     "output_type": "stream",
     "text": [
      "\n",
      "An array initialized with all 6s.Array type is complex:\n",
      " [[6.+0.j 6.+0.j 6.+0.j]\n",
      " [6.+0.j 6.+0.j 6.+0.j]\n",
      " [6.+0.j 6.+0.j 6.+0.j]]\n"
     ]
    }
   ],
   "source": [
    "# Create a constant value array of complex type\n",
    "d = np.full((3, 3), 6, dtype = 'complex')\n",
    "print (\"\\nAn array initialized with all 6s.\" \n",
    "            \"Array type is complex:\\n\", d)\n",
    "  "
   ]
  },
  {
   "cell_type": "code",
   "execution_count": 11,
   "id": "230ae30b",
   "metadata": {},
   "outputs": [
    {
     "name": "stdout",
     "output_type": "stream",
     "text": [
      "\n",
      "A sequential array with 10 values between0 and 5:\n",
      " [0.         0.55555556 1.11111111 1.66666667 2.22222222 2.77777778\n",
      " 3.33333333 3.88888889 4.44444444 5.        ]\n"
     ]
    }
   ],
   "source": [
    "# Create a sequence of 10 values in range 0 to 5\n",
    "g = np.linspace(0, 5, 10)\n",
    "print (\"\\nA sequential array with 10 values between\"\n",
    "                                        \"0 and 5:\\n\", g)\n",
    "  "
   ]
  },
  {
   "cell_type": "code",
   "execution_count": 12,
   "id": "61a2e8ad",
   "metadata": {},
   "outputs": [],
   "source": [
    "# Reshaping 3X4 array to 2X2X3 array\n",
    "arr = np.array([[1, 2, 3, 4],\n",
    "                [5, 2, 4, 2],\n",
    "                [1, 2, 0, 1]])\n",
    "  \n",
    "newarr = arr.reshape(2, 2, 3)\n",
    "  "
   ]
  },
  {
   "cell_type": "code",
   "execution_count": 13,
   "id": "3bf90dd5",
   "metadata": {},
   "outputs": [
    {
     "name": "stdout",
     "output_type": "stream",
     "text": [
      "[[[1 2 3]\n",
      "  [4 5 2]]\n",
      "\n",
      " [[4 2 1]\n",
      "  [2 0 1]]]\n"
     ]
    }
   ],
   "source": [
    "print(newarr)"
   ]
  },
  {
   "cell_type": "code",
   "execution_count": 14,
   "id": "b2243998",
   "metadata": {},
   "outputs": [
    {
     "name": "stdout",
     "output_type": "stream",
     "text": [
      "\n",
      "Original array:\n",
      " [[1 2 3]\n",
      " [4 5 6]]\n",
      "Fattened array:\n",
      " [1 2 3 4 5 6]\n"
     ]
    }
   ],
   "source": [
    "# Flatten array\n",
    "arr = np.array([[1, 2, 3], [4, 5, 6]])\n",
    "flarr = arr.flatten()\n",
    "  \n",
    "print (\"\\nOriginal array:\\n\", arr)\n",
    "print (\"Fattened array:\\n\", flarr)\n"
   ]
  },
  {
   "cell_type": "markdown",
   "id": "1737a8dc",
   "metadata": {},
   "source": [
    "# array indexing"
   ]
  },
  {
   "cell_type": "code",
   "execution_count": 15,
   "id": "83a7039a",
   "metadata": {},
   "outputs": [],
   "source": [
    "import numpy as np"
   ]
  },
  {
   "cell_type": "code",
   "execution_count": 16,
   "id": "5e3938a8",
   "metadata": {},
   "outputs": [
    {
     "name": "stdout",
     "output_type": "stream",
     "text": [
      "Array with first 2 rows and alternatecolumns(0 and 2):\n",
      " [[-1.  0.]\n",
      " [ 4.  6.]]\n"
     ]
    }
   ],
   "source": [
    "\n",
    "arr = np.array([[-1, 2, 0, 4],\n",
    "                [4, -0.5, 6, 0],\n",
    "                [2.6, 0, 7, 8],\n",
    "                [3, -7, 4, 2.0]])\n",
    "  \n",
    "# Slicing array\n",
    "temp = arr[:2, ::2]\n",
    "print (\"Array with first 2 rows and alternate\"\n",
    "                    \"columns(0 and 2):\\n\", temp)\n",
    "  "
   ]
  },
  {
   "cell_type": "code",
   "execution_count": 17,
   "id": "0de9c77a",
   "metadata": {},
   "outputs": [
    {
     "name": "stdout",
     "output_type": "stream",
     "text": [
      "\n",
      "Elements at indices (0, 3), (1, 2), (2, 1),(3, 0):\n",
      " [4. 6. 0. 3.]\n"
     ]
    }
   ],
   "source": [
    "# Integer array indexing example\n",
    "temp = arr[[0, 1, 2, 3], [3, 2, 1, 0]]\n",
    "print (\"\\nElements at indices (0, 3), (1, 2), (2, 1),\"\n",
    "                                    \"(3, 0):\\n\", temp)\n",
    "  "
   ]
  },
  {
   "cell_type": "code",
   "execution_count": 18,
   "id": "c3342d55",
   "metadata": {},
   "outputs": [
    {
     "name": "stdout",
     "output_type": "stream",
     "text": [
      "\n",
      "Elements greater than 0:\n",
      " [2.  4.  4.  6.  2.6 7.  8.  3.  4.  2. ]\n"
     ]
    }
   ],
   "source": [
    "# boolean array indexing example\n",
    "cond = arr > 0\n",
    "temp = arr[cond]\n",
    "print (\"\\nElements greater than 0:\\n\", temp)\n"
   ]
  },
  {
   "cell_type": "markdown",
   "id": "9bc8b34f",
   "metadata": {},
   "source": [
    "# Operations on single array"
   ]
  },
  {
   "cell_type": "code",
   "execution_count": 19,
   "id": "447c7cb5",
   "metadata": {},
   "outputs": [],
   "source": [
    "import numpy as np\n",
    "  \n",
    "a = np.array([1, 2, 5, 3])"
   ]
  },
  {
   "cell_type": "code",
   "execution_count": 20,
   "id": "7a06bb3b",
   "metadata": {},
   "outputs": [
    {
     "name": "stdout",
     "output_type": "stream",
     "text": [
      "Adding 1 to every element: [2 3 6 4]\n"
     ]
    }
   ],
   "source": [
    "print (\"Adding 1 to every element:\", a+1)"
   ]
  },
  {
   "cell_type": "code",
   "execution_count": 21,
   "id": "1c8f627d",
   "metadata": {},
   "outputs": [
    {
     "name": "stdout",
     "output_type": "stream",
     "text": [
      "Subtracting 3 from each element: [-2 -1  2  0]\n"
     ]
    }
   ],
   "source": [
    "print (\"Subtracting 3 from each element:\", a-3)"
   ]
  },
  {
   "cell_type": "code",
   "execution_count": 22,
   "id": "fe6cc2fa",
   "metadata": {},
   "outputs": [
    {
     "name": "stdout",
     "output_type": "stream",
     "text": [
      "Squaring each element: [ 1  4 25  9]\n"
     ]
    }
   ],
   "source": [
    "print (\"Squaring each element:\", a**2)\n",
    " "
   ]
  },
  {
   "cell_type": "code",
   "execution_count": 23,
   "id": "09626950",
   "metadata": {},
   "outputs": [
    {
     "name": "stdout",
     "output_type": "stream",
     "text": [
      "\n",
      "Original array:\n",
      " [[1 2 3]\n",
      " [3 4 5]\n",
      " [9 6 0]]\n",
      "Transpose of array:\n",
      " [[1 3 9]\n",
      " [2 4 6]\n",
      " [3 5 0]]\n"
     ]
    }
   ],
   "source": [
    "a = np.array([[1, 2, 3], [3, 4, 5], [9, 6, 0]])\n",
    "  \n",
    "print (\"\\nOriginal array:\\n\", a)\n",
    "print (\"Transpose of array:\\n\", a.T)\n"
   ]
  },
  {
   "cell_type": "markdown",
   "id": "4b24b9be",
   "metadata": {},
   "source": [
    "# Unary operators"
   ]
  },
  {
   "cell_type": "code",
   "execution_count": 24,
   "id": "7e3335ee",
   "metadata": {},
   "outputs": [],
   "source": [
    "import numpy as np\n",
    "  \n",
    "arr = np.array([[1, 5, 6],\n",
    "                [4, 7, 2],\n",
    "                [3, 1, 9]])\n",
    "  "
   ]
  },
  {
   "cell_type": "code",
   "execution_count": 25,
   "id": "53f78e60",
   "metadata": {},
   "outputs": [
    {
     "name": "stdout",
     "output_type": "stream",
     "text": [
      "Largest element is: 9\n",
      "Row-wise maximum elements: [6 7 9]\n"
     ]
    }
   ],
   "source": [
    "print (\"Largest element is:\", arr.max())\n",
    "print (\"Row-wise maximum elements:\",\n",
    "                    arr.max(axis = 1))\n",
    "  "
   ]
  },
  {
   "cell_type": "code",
   "execution_count": 26,
   "id": "80fd7a63",
   "metadata": {},
   "outputs": [
    {
     "name": "stdout",
     "output_type": "stream",
     "text": [
      "Column-wise minimum elements: [1 1 2]\n"
     ]
    }
   ],
   "source": [
    "print (\"Column-wise minimum elements:\",\n",
    "                        arr.min(axis = 0))\n",
    "  "
   ]
  },
  {
   "cell_type": "markdown",
   "id": "584880bf",
   "metadata": {},
   "source": [
    "# MATRIX OPERATIONS"
   ]
  },
  {
   "cell_type": "code",
   "execution_count": 1,
   "id": "16333c2d",
   "metadata": {},
   "outputs": [],
   "source": [
    "import numpy as np\n"
   ]
  },
  {
   "cell_type": "code",
   "execution_count": 2,
   "id": "55c8c589",
   "metadata": {},
   "outputs": [],
   "source": [
    "gfg = np.matrix('[64, 1; 12, 3]')"
   ]
  },
  {
   "cell_type": "code",
   "execution_count": 5,
   "id": "56a92da6",
   "metadata": {},
   "outputs": [],
   "source": [
    "a = gfg.max()"
   ]
  },
  {
   "cell_type": "code",
   "execution_count": 6,
   "id": "0553e8b5",
   "metadata": {},
   "outputs": [
    {
     "name": "stdout",
     "output_type": "stream",
     "text": [
      "64\n"
     ]
    }
   ],
   "source": [
    "print(a)"
   ]
  },
  {
   "cell_type": "code",
   "execution_count": 7,
   "id": "656159f1",
   "metadata": {},
   "outputs": [],
   "source": [
    "b = gfg.min()"
   ]
  },
  {
   "cell_type": "code",
   "execution_count": 8,
   "id": "149d4ccd",
   "metadata": {},
   "outputs": [
    {
     "name": "stdout",
     "output_type": "stream",
     "text": [
      "1\n"
     ]
    }
   ],
   "source": [
    "print(b)"
   ]
  },
  {
   "cell_type": "code",
   "execution_count": 9,
   "id": "a0f9ac3b",
   "metadata": {},
   "outputs": [],
   "source": [
    "c= gfg.take(2)"
   ]
  },
  {
   "cell_type": "markdown",
   "id": "b7cd8a8b",
   "metadata": {},
   "source": [
    "# "
   ]
  },
  {
   "cell_type": "code",
   "execution_count": 10,
   "id": "ecbff5a1",
   "metadata": {},
   "outputs": [
    {
     "name": "stdout",
     "output_type": "stream",
     "text": [
      "[[12]]\n"
     ]
    }
   ],
   "source": [
    "print(c)"
   ]
  },
  {
   "cell_type": "code",
   "execution_count": 11,
   "id": "4cb8da96",
   "metadata": {},
   "outputs": [],
   "source": [
    "d =gfg.take(0,1)"
   ]
  },
  {
   "cell_type": "code",
   "execution_count": 12,
   "id": "d682c135",
   "metadata": {},
   "outputs": [
    {
     "ename": "SyntaxError",
     "evalue": "Missing parentheses in call to 'print'. Did you mean print(...)? (Temp/ipykernel_10704/1159321972.py, line 1)",
     "output_type": "error",
     "traceback": [
      "\u001b[1;36m  Input \u001b[1;32mIn [12]\u001b[1;36m\u001b[0m\n\u001b[1;33m    print d\u001b[0m\n\u001b[1;37m    ^\u001b[0m\n\u001b[1;31mSyntaxError\u001b[0m\u001b[1;31m:\u001b[0m Missing parentheses in call to 'print'. Did you mean print(...)?\n"
     ]
    }
   ],
   "source": [
    "print d"
   ]
  },
  {
   "cell_type": "code",
   "execution_count": 13,
   "id": "0ba259f5",
   "metadata": {},
   "outputs": [
    {
     "name": "stdout",
     "output_type": "stream",
     "text": [
      "[[64 12]]\n"
     ]
    }
   ],
   "source": [
    "print(d)"
   ]
  },
  {
   "cell_type": "code",
   "execution_count": 14,
   "id": "5e8e6fa7",
   "metadata": {},
   "outputs": [],
   "source": [
    "import numpy as np"
   ]
  },
  {
   "cell_type": "code",
   "execution_count": 15,
   "id": "187cb270",
   "metadata": {},
   "outputs": [],
   "source": [
    "ini_array = np.array([[1, 2, 3], [45, 4, 7], [9, 6, 10]])"
   ]
  },
  {
   "cell_type": "code",
   "execution_count": 16,
   "id": "031dc28e",
   "metadata": {},
   "outputs": [],
   "source": [
    "column_to_be_added = np.array([1, 2, 3])\n",
    "result = np.hstack((ini_array, np.atleast_2d(column_to_be_added).T))"
   ]
  },
  {
   "cell_type": "code",
   "execution_count": 17,
   "id": "2291a7fd",
   "metadata": {},
   "outputs": [
    {
     "name": "stdout",
     "output_type": "stream",
     "text": [
      "resultant array [[ 1  2  3  1]\n",
      " [45  4  7  2]\n",
      " [ 9  6 10  3]]\n"
     ]
    }
   ],
   "source": [
    "print (\"resultant array\", str(result))\n"
   ]
  },
  {
   "cell_type": "code",
   "execution_count": 18,
   "id": "324f3e80",
   "metadata": {},
   "outputs": [],
   "source": [
    "#USING COLUMN STACK METHOD"
   ]
  },
  {
   "cell_type": "code",
   "execution_count": 19,
   "id": "9ebbb468",
   "metadata": {},
   "outputs": [],
   "source": [
    "import numpy as np"
   ]
  },
  {
   "cell_type": "code",
   "execution_count": 20,
   "id": "8b71f45c",
   "metadata": {},
   "outputs": [],
   "source": [
    "ini_array = np.array([[1, 2, 3], [45, 4, 7], [9, 6, 10]])"
   ]
  },
  {
   "cell_type": "code",
   "execution_count": 21,
   "id": "25d0fed4",
   "metadata": {},
   "outputs": [
    {
     "name": "stdout",
     "output_type": "stream",
     "text": [
      "initial_array :  [[ 1  2  3]\n",
      " [45  4  7]\n",
      " [ 9  6 10]]\n"
     ]
    }
   ],
   "source": [
    "print(\"initial_array : \", str(ini_array));\n",
    "# Array to be added as column\n",
    "column_to_be_added = np.array([1, 2, 3])\n",
    " "
   ]
  },
  {
   "cell_type": "code",
   "execution_count": 22,
   "id": "fa50951c",
   "metadata": {},
   "outputs": [
    {
     "name": "stdout",
     "output_type": "stream",
     "text": [
      "resultant array [[ 1  2  3  1]\n",
      " [45  4  7  2]\n",
      " [ 9  6 10  3]]\n"
     ]
    }
   ],
   "source": [
    "result = np.column_stack((ini_array, column_to_be_added))\n",
    " \n",
    "# printing result\n",
    "print (\"resultant array\", str(result))\n"
   ]
  },
  {
   "cell_type": "markdown",
   "id": "9cd561a0",
   "metadata": {},
   "source": [
    "# inversing a matrix"
   ]
  },
  {
   "cell_type": "code",
   "execution_count": 23,
   "id": "83bd4a73",
   "metadata": {},
   "outputs": [],
   "source": [
    "import numpy as np\n",
    "# Taking a 3 * 3 matrix\n",
    "A = np.array([[6, 1, 1],\n",
    "              [4, -2, 5],\n",
    "              [2, 8, 7]])\n",
    "  "
   ]
  },
  {
   "cell_type": "code",
   "execution_count": 24,
   "id": "af31b633",
   "metadata": {},
   "outputs": [
    {
     "name": "stdout",
     "output_type": "stream",
     "text": [
      "[[ 0.17647059 -0.00326797 -0.02287582]\n",
      " [ 0.05882353 -0.13071895  0.08496732]\n",
      " [-0.11764706  0.1503268   0.05228758]]\n"
     ]
    }
   ],
   "source": [
    "print(np.linalg.inv(A))"
   ]
  },
  {
   "cell_type": "code",
   "execution_count": 25,
   "id": "50d7323f",
   "metadata": {},
   "outputs": [
    {
     "name": "stdout",
     "output_type": "stream",
     "text": [
      "[[4, 1, 12, 3]]\n"
     ]
    }
   ],
   "source": [
    "#converting matrix to list\n",
    "gfg = np.matrix('[4, 1, 12, 3]')\n",
    "              \n",
    "# applying matrix.tolist() method\n",
    "a = gfg.tolist()\n",
    "    \n",
    "print(a)"
   ]
  },
  {
   "cell_type": "code",
   "execution_count": 26,
   "id": "39365a4d",
   "metadata": {},
   "outputs": [],
   "source": [
    "d = np.matrix('[4, 1, 9; 12, 3, 1; 4, 5, 6]')\n",
    "b = d.tolist()"
   ]
  },
  {
   "cell_type": "code",
   "execution_count": 27,
   "id": "67e70ab8",
   "metadata": {},
   "outputs": [
    {
     "name": "stdout",
     "output_type": "stream",
     "text": [
      "[[4, 1, 9], [12, 3, 1], [4, 5, 6]]\n"
     ]
    }
   ],
   "source": [
    "print(b)"
   ]
  },
  {
   "cell_type": "code",
   "execution_count": null,
   "id": "86a93f33",
   "metadata": {},
   "outputs": [],
   "source": []
  }
 ],
 "metadata": {
  "kernelspec": {
   "display_name": "Python 3 (ipykernel)",
   "language": "python",
   "name": "python3"
  },
  "language_info": {
   "codemirror_mode": {
    "name": "ipython",
    "version": 3
   },
   "file_extension": ".py",
   "mimetype": "text/x-python",
   "name": "python",
   "nbconvert_exporter": "python",
   "pygments_lexer": "ipython3",
   "version": "3.10.0"
  }
 },
 "nbformat": 4,
 "nbformat_minor": 5
}
